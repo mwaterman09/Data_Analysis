{
 "cells": [
  {
   "attachments": {},
   "cell_type": "markdown",
   "metadata": {},
   "source": [
    "This notebook takes hydrodynamics data of various yachts based on the 43' sloop by Standmast and uses a neural network to predict hull performance. The data was obtained from the UCI machine learning repository and was created by the Delft Ship Hydrodynamics Laboratory for the purpose of predicting the residuary hull resistance, which is used for estimating the required propulsive power of the vessel. The data consists of 308 full scale experiments of 22 different hull forms.  \n",
    "\n",
    "The model is a nonlinear regression model using Pytorch."
   ]
  },
  {
   "cell_type": "code",
   "execution_count": 18,
   "metadata": {},
   "outputs": [],
   "source": [
    "# import modules\n",
    "import pandas as pd\n",
    "import numpy as np\n",
    "import matplotlib.pyplot as plt\n",
    "import seaborn as sns\n",
    "\n",
    "import torch\n",
    "import torch.nn as nn\n",
    "import torch.nn.functional as F\n",
    "from torch.optim import SGD"
   ]
  },
  {
   "cell_type": "code",
   "execution_count": 19,
   "metadata": {},
   "outputs": [
    {
     "data": {
      "text/html": [
       "<div>\n",
       "<style scoped>\n",
       "    .dataframe tbody tr th:only-of-type {\n",
       "        vertical-align: middle;\n",
       "    }\n",
       "\n",
       "    .dataframe tbody tr th {\n",
       "        vertical-align: top;\n",
       "    }\n",
       "\n",
       "    .dataframe thead th {\n",
       "        text-align: right;\n",
       "    }\n",
       "</style>\n",
       "<table border=\"1\" class=\"dataframe\">\n",
       "  <thead>\n",
       "    <tr style=\"text-align: right;\">\n",
       "      <th></th>\n",
       "      <th>-2.3</th>\n",
       "      <th>0.568</th>\n",
       "      <th>4.78</th>\n",
       "      <th>3.99</th>\n",
       "      <th>3.17</th>\n",
       "      <th>0.125</th>\n",
       "      <th>0.11</th>\n",
       "    </tr>\n",
       "  </thead>\n",
       "  <tbody>\n",
       "    <tr>\n",
       "      <th>0</th>\n",
       "      <td>-2.3</td>\n",
       "      <td>0.568</td>\n",
       "      <td>4.78</td>\n",
       "      <td>3.99</td>\n",
       "      <td>3.17</td>\n",
       "      <td>0.150</td>\n",
       "      <td>0.27</td>\n",
       "    </tr>\n",
       "    <tr>\n",
       "      <th>1</th>\n",
       "      <td>-2.3</td>\n",
       "      <td>0.568</td>\n",
       "      <td>4.78</td>\n",
       "      <td>3.99</td>\n",
       "      <td>3.17</td>\n",
       "      <td>0.175</td>\n",
       "      <td>0.47</td>\n",
       "    </tr>\n",
       "    <tr>\n",
       "      <th>2</th>\n",
       "      <td>-2.3</td>\n",
       "      <td>0.568</td>\n",
       "      <td>4.78</td>\n",
       "      <td>3.99</td>\n",
       "      <td>3.17</td>\n",
       "      <td>0.200</td>\n",
       "      <td>0.78</td>\n",
       "    </tr>\n",
       "    <tr>\n",
       "      <th>3</th>\n",
       "      <td>-2.3</td>\n",
       "      <td>0.568</td>\n",
       "      <td>4.78</td>\n",
       "      <td>3.99</td>\n",
       "      <td>3.17</td>\n",
       "      <td>0.225</td>\n",
       "      <td>1.18</td>\n",
       "    </tr>\n",
       "    <tr>\n",
       "      <th>4</th>\n",
       "      <td>-2.3</td>\n",
       "      <td>0.568</td>\n",
       "      <td>4.78</td>\n",
       "      <td>3.99</td>\n",
       "      <td>3.17</td>\n",
       "      <td>0.250</td>\n",
       "      <td>1.82</td>\n",
       "    </tr>\n",
       "    <tr>\n",
       "      <th>...</th>\n",
       "      <td>...</td>\n",
       "      <td>...</td>\n",
       "      <td>...</td>\n",
       "      <td>...</td>\n",
       "      <td>...</td>\n",
       "      <td>...</td>\n",
       "      <td>...</td>\n",
       "    </tr>\n",
       "    <tr>\n",
       "      <th>302</th>\n",
       "      <td>-2.3</td>\n",
       "      <td>0.600</td>\n",
       "      <td>4.34</td>\n",
       "      <td>4.23</td>\n",
       "      <td>2.73</td>\n",
       "      <td>0.350</td>\n",
       "      <td>8.47</td>\n",
       "    </tr>\n",
       "    <tr>\n",
       "      <th>303</th>\n",
       "      <td>-2.3</td>\n",
       "      <td>0.600</td>\n",
       "      <td>4.34</td>\n",
       "      <td>4.23</td>\n",
       "      <td>2.73</td>\n",
       "      <td>0.375</td>\n",
       "      <td>12.27</td>\n",
       "    </tr>\n",
       "    <tr>\n",
       "      <th>304</th>\n",
       "      <td>-2.3</td>\n",
       "      <td>0.600</td>\n",
       "      <td>4.34</td>\n",
       "      <td>4.23</td>\n",
       "      <td>2.73</td>\n",
       "      <td>0.400</td>\n",
       "      <td>19.59</td>\n",
       "    </tr>\n",
       "    <tr>\n",
       "      <th>305</th>\n",
       "      <td>-2.3</td>\n",
       "      <td>0.600</td>\n",
       "      <td>4.34</td>\n",
       "      <td>4.23</td>\n",
       "      <td>2.73</td>\n",
       "      <td>0.425</td>\n",
       "      <td>30.48</td>\n",
       "    </tr>\n",
       "    <tr>\n",
       "      <th>306</th>\n",
       "      <td>-2.3</td>\n",
       "      <td>0.600</td>\n",
       "      <td>4.34</td>\n",
       "      <td>4.23</td>\n",
       "      <td>2.73</td>\n",
       "      <td>0.450</td>\n",
       "      <td>46.66</td>\n",
       "    </tr>\n",
       "  </tbody>\n",
       "</table>\n",
       "<p>307 rows × 7 columns</p>\n",
       "</div>"
      ],
      "text/plain": [
       "     -2.3  0.568  4.78  3.99  3.17  0.125   0.11\n",
       "0    -2.3  0.568  4.78  3.99  3.17  0.150   0.27\n",
       "1    -2.3  0.568  4.78  3.99  3.17  0.175   0.47\n",
       "2    -2.3  0.568  4.78  3.99  3.17  0.200   0.78\n",
       "3    -2.3  0.568  4.78  3.99  3.17  0.225   1.18\n",
       "4    -2.3  0.568  4.78  3.99  3.17  0.250   1.82\n",
       "..    ...    ...   ...   ...   ...    ...    ...\n",
       "302  -2.3  0.600  4.34  4.23  2.73  0.350   8.47\n",
       "303  -2.3  0.600  4.34  4.23  2.73  0.375  12.27\n",
       "304  -2.3  0.600  4.34  4.23  2.73  0.400  19.59\n",
       "305  -2.3  0.600  4.34  4.23  2.73  0.425  30.48\n",
       "306  -2.3  0.600  4.34  4.23  2.73  0.450  46.66\n",
       "\n",
       "[307 rows x 7 columns]"
      ]
     },
     "execution_count": 19,
     "metadata": {},
     "output_type": "execute_result"
    }
   ],
   "source": [
    "# read and display the data\n",
    "df = pd.read_csv('yacht_hydrodynamics.data', delim_whitespace=True)\n",
    "df"
   ]
  },
  {
   "attachments": {},
   "cell_type": "markdown",
   "metadata": {},
   "source": [
    "The provided columns are:\n",
    "1. Center of Bouyancy (longitudinal position)\n",
    "2. Prismatic coefficient\n",
    "3. Length-displacement ratio\n",
    "4. Beam-draught ratio\n",
    "5. Length-beam ratio\n",
    "6. Froude number\n",
    "7. Residuary resistance - measured variable\n",
    "\n",
    "The goal of this dataset is to find a way to predict values for residuary resistance based on the previous column."
   ]
  },
  {
   "cell_type": "code",
   "execution_count": 20,
   "metadata": {},
   "outputs": [
    {
     "data": {
      "text/html": [
       "<div>\n",
       "<style scoped>\n",
       "    .dataframe tbody tr th:only-of-type {\n",
       "        vertical-align: middle;\n",
       "    }\n",
       "\n",
       "    .dataframe tbody tr th {\n",
       "        vertical-align: top;\n",
       "    }\n",
       "\n",
       "    .dataframe thead th {\n",
       "        text-align: right;\n",
       "    }\n",
       "</style>\n",
       "<table border=\"1\" class=\"dataframe\">\n",
       "  <thead>\n",
       "    <tr style=\"text-align: right;\">\n",
       "      <th></th>\n",
       "      <th>cob</th>\n",
       "      <th>prism_coef</th>\n",
       "      <th>ld_ratio</th>\n",
       "      <th>bd_ratio</th>\n",
       "      <th>lb_ratio</th>\n",
       "      <th>froude</th>\n",
       "      <th>rr</th>\n",
       "    </tr>\n",
       "  </thead>\n",
       "  <tbody>\n",
       "    <tr>\n",
       "      <th>0</th>\n",
       "      <td>-2.3</td>\n",
       "      <td>0.568</td>\n",
       "      <td>4.78</td>\n",
       "      <td>3.99</td>\n",
       "      <td>3.17</td>\n",
       "      <td>0.150</td>\n",
       "      <td>0.27</td>\n",
       "    </tr>\n",
       "    <tr>\n",
       "      <th>1</th>\n",
       "      <td>-2.3</td>\n",
       "      <td>0.568</td>\n",
       "      <td>4.78</td>\n",
       "      <td>3.99</td>\n",
       "      <td>3.17</td>\n",
       "      <td>0.175</td>\n",
       "      <td>0.47</td>\n",
       "    </tr>\n",
       "    <tr>\n",
       "      <th>2</th>\n",
       "      <td>-2.3</td>\n",
       "      <td>0.568</td>\n",
       "      <td>4.78</td>\n",
       "      <td>3.99</td>\n",
       "      <td>3.17</td>\n",
       "      <td>0.200</td>\n",
       "      <td>0.78</td>\n",
       "    </tr>\n",
       "    <tr>\n",
       "      <th>3</th>\n",
       "      <td>-2.3</td>\n",
       "      <td>0.568</td>\n",
       "      <td>4.78</td>\n",
       "      <td>3.99</td>\n",
       "      <td>3.17</td>\n",
       "      <td>0.225</td>\n",
       "      <td>1.18</td>\n",
       "    </tr>\n",
       "    <tr>\n",
       "      <th>4</th>\n",
       "      <td>-2.3</td>\n",
       "      <td>0.568</td>\n",
       "      <td>4.78</td>\n",
       "      <td>3.99</td>\n",
       "      <td>3.17</td>\n",
       "      <td>0.250</td>\n",
       "      <td>1.82</td>\n",
       "    </tr>\n",
       "    <tr>\n",
       "      <th>...</th>\n",
       "      <td>...</td>\n",
       "      <td>...</td>\n",
       "      <td>...</td>\n",
       "      <td>...</td>\n",
       "      <td>...</td>\n",
       "      <td>...</td>\n",
       "      <td>...</td>\n",
       "    </tr>\n",
       "    <tr>\n",
       "      <th>302</th>\n",
       "      <td>-2.3</td>\n",
       "      <td>0.600</td>\n",
       "      <td>4.34</td>\n",
       "      <td>4.23</td>\n",
       "      <td>2.73</td>\n",
       "      <td>0.350</td>\n",
       "      <td>8.47</td>\n",
       "    </tr>\n",
       "    <tr>\n",
       "      <th>303</th>\n",
       "      <td>-2.3</td>\n",
       "      <td>0.600</td>\n",
       "      <td>4.34</td>\n",
       "      <td>4.23</td>\n",
       "      <td>2.73</td>\n",
       "      <td>0.375</td>\n",
       "      <td>12.27</td>\n",
       "    </tr>\n",
       "    <tr>\n",
       "      <th>304</th>\n",
       "      <td>-2.3</td>\n",
       "      <td>0.600</td>\n",
       "      <td>4.34</td>\n",
       "      <td>4.23</td>\n",
       "      <td>2.73</td>\n",
       "      <td>0.400</td>\n",
       "      <td>19.59</td>\n",
       "    </tr>\n",
       "    <tr>\n",
       "      <th>305</th>\n",
       "      <td>-2.3</td>\n",
       "      <td>0.600</td>\n",
       "      <td>4.34</td>\n",
       "      <td>4.23</td>\n",
       "      <td>2.73</td>\n",
       "      <td>0.425</td>\n",
       "      <td>30.48</td>\n",
       "    </tr>\n",
       "    <tr>\n",
       "      <th>306</th>\n",
       "      <td>-2.3</td>\n",
       "      <td>0.600</td>\n",
       "      <td>4.34</td>\n",
       "      <td>4.23</td>\n",
       "      <td>2.73</td>\n",
       "      <td>0.450</td>\n",
       "      <td>46.66</td>\n",
       "    </tr>\n",
       "  </tbody>\n",
       "</table>\n",
       "<p>307 rows × 7 columns</p>\n",
       "</div>"
      ],
      "text/plain": [
       "     cob  prism_coef  ld_ratio  bd_ratio  lb_ratio  froude     rr\n",
       "0   -2.3       0.568      4.78      3.99      3.17   0.150   0.27\n",
       "1   -2.3       0.568      4.78      3.99      3.17   0.175   0.47\n",
       "2   -2.3       0.568      4.78      3.99      3.17   0.200   0.78\n",
       "3   -2.3       0.568      4.78      3.99      3.17   0.225   1.18\n",
       "4   -2.3       0.568      4.78      3.99      3.17   0.250   1.82\n",
       "..   ...         ...       ...       ...       ...     ...    ...\n",
       "302 -2.3       0.600      4.34      4.23      2.73   0.350   8.47\n",
       "303 -2.3       0.600      4.34      4.23      2.73   0.375  12.27\n",
       "304 -2.3       0.600      4.34      4.23      2.73   0.400  19.59\n",
       "305 -2.3       0.600      4.34      4.23      2.73   0.425  30.48\n",
       "306 -2.3       0.600      4.34      4.23      2.73   0.450  46.66\n",
       "\n",
       "[307 rows x 7 columns]"
      ]
     },
     "execution_count": 20,
     "metadata": {},
     "output_type": "execute_result"
    }
   ],
   "source": [
    "# add column names\n",
    "df.rename(columns={ df.columns[0]: 'cob', df.columns[1]: 'prism_coef', df.columns[2]: 'ld_ratio', df.columns[3]: 'bd_ratio',\\\n",
    "                   df.columns[4]: 'lb_ratio', df.columns[5]: 'froude', df.columns[6]: 'rr'}, inplace=True)\n",
    "df"
   ]
  },
  {
   "cell_type": "code",
   "execution_count": 21,
   "metadata": {},
   "outputs": [
    {
     "data": {
      "text/plain": [
       "cob           0\n",
       "prism_coef    0\n",
       "ld_ratio      0\n",
       "bd_ratio      0\n",
       "lb_ratio      0\n",
       "froude        0\n",
       "rr            0\n",
       "dtype: int64"
      ]
     },
     "execution_count": 21,
     "metadata": {},
     "output_type": "execute_result"
    }
   ],
   "source": [
    "# check for missing entries\n",
    "df.isna().sum()"
   ]
  },
  {
   "attachments": {},
   "cell_type": "markdown",
   "metadata": {},
   "source": [
    "Making the Neural Network"
   ]
  },
  {
   "cell_type": "code",
   "execution_count": 22,
   "metadata": {},
   "outputs": [],
   "source": [
    "# create torch tensors \n",
    "index = 5\n",
    "X = torch.from_numpy(df.iloc[:, [index]].values).float()\n",
    "Y = torch.from_numpy(df['rr'].values).float()"
   ]
  },
  {
   "cell_type": "code",
   "execution_count": 23,
   "metadata": {},
   "outputs": [
    {
     "name": "stdout",
     "output_type": "stream",
     "text": [
      "X: torch.Size([307, 1]) Y: torch.Size([307, 1])\n"
     ]
    }
   ],
   "source": [
    "# add dimension to Y to match X\n",
    "Y = Y.unsqueeze(1)\n",
    "print(f'X: {X.shape} Y: {Y.shape}')"
   ]
  },
  {
   "cell_type": "code",
   "execution_count": 24,
   "metadata": {},
   "outputs": [],
   "source": [
    "# define number of samples and features\n",
    "n_samples, n_features = X.shape"
   ]
  },
  {
   "cell_type": "code",
   "execution_count": 25,
   "metadata": {},
   "outputs": [],
   "source": [
    "# define input and output size of the network\n",
    "input_size = n_features\n",
    "output_size = 1\n",
    "hidden_size = 3"
   ]
  },
  {
   "cell_type": "code",
   "execution_count": 26,
   "metadata": {},
   "outputs": [],
   "source": [
    "# create the neural network\n",
    "class NonLinearModel(nn.Module):\n",
    "\n",
    "    def __init__(self, input_size, hidden_size, output_size):\n",
    "        super(NonLinearModel, self).__init__()\n",
    "        self.layer1 = nn.Linear(input_size, hidden_size) # first part of first linear layer\n",
    "        self.relu = nn.ReLU() # second part of first layer - activation function\n",
    "\n",
    "        self.layer2 = nn.Linear(hidden_size, output_size) # second linear layer\n",
    "        \n",
    "    # forward pass\n",
    "    def forward(self, x):\n",
    "        x = self.layer1(x)\n",
    "        x = self.relu(x)\n",
    "        yhat = self.layer2(x)\n",
    "\n",
    "        return yhat\n",
    "    \n",
    "        "
   ]
  },
  {
   "cell_type": "code",
   "execution_count": 27,
   "metadata": {},
   "outputs": [],
   "source": [
    "# create model object from class\n",
    "model = NonLinearModel(input_size, hidden_size, output_size)"
   ]
  },
  {
   "cell_type": "code",
   "execution_count": 28,
   "metadata": {},
   "outputs": [],
   "source": [
    "# define optimizer and loss\n",
    "optimizer = torch.optim.SGD(model.parameters(), lr=0.001)\n",
    "criterion = nn.MSELoss()"
   ]
  },
  {
   "cell_type": "code",
   "execution_count": 29,
   "metadata": {},
   "outputs": [],
   "source": [
    "# training loop\n",
    "epochs = 100\n",
    "total_loss = []\n",
    "\n",
    "for epoch in range(epochs):\n",
    "    Yhat = model(X)\n",
    "    loss_batch = criterion(Yhat, Y)\n",
    "    total_loss.append(loss_batch.item())\n",
    "\n",
    "    for x, y in zip(X, Y):\n",
    "\n",
    "        yhat = model(x)\n",
    "\n",
    "        loss = criterion(yhat, y)\n",
    "\n",
    "        loss.backward()\n",
    "\n",
    "        optimizer.step()\n",
    "\n",
    "        optimizer.zero_grad()\n",
    "\n",
    "    Yhat = model(X) "
   ]
  },
  {
   "cell_type": "code",
   "execution_count": 30,
   "metadata": {},
   "outputs": [],
   "source": [
    "# use model to make predictions\n",
    "predicted = model(X).detach().numpy()"
   ]
  },
  {
   "cell_type": "code",
   "execution_count": 31,
   "metadata": {},
   "outputs": [
    {
     "data": {
      "image/png": "[encoded data removed]",
      "text/plain": [
       "<Figure size 640x480 with 1 Axes>"
      ]
     },
     "metadata": {},
     "output_type": "display_data"
    }
   ],
   "source": [
    "# plot predicted values\n",
    "plt.plot(df.iloc[:,index].values, predicted, 'ro')\n",
    "plt.plot(df.iloc[:,index].values, Y, 'ko')\n",
    "plt.show()"
   ]
  },
  {
   "cell_type": "code",
   "execution_count": 32,
   "metadata": {},
   "outputs": [
    {
     "data": {
      "image/png": "[encoded data removed]",
      "text/plain": [
       "<Figure size 640x480 with 1 Axes>"
      ]
     },
     "metadata": {},
     "output_type": "display_data"
    }
   ],
   "source": [
    "# plot the loss function\n",
    "x_line = range(epochs)\n",
    "plt.plot(x_line, total_loss)\n",
    "plt.ylabel('Loss (MSE)')\n",
    "plt.xlabel('Epochs')\n",
    "plt.title('Loss function')\n",
    "plt.show()"
   ]
  }
 ],
 "metadata": {
  "kernelspec": {
   "display_name": "base",
   "language": "python",
   "name": "python3"
  },
  "language_info": {
   "codemirror_mode": {
    "name": "ipython",
    "version": 3
   },
   "file_extension": ".py",
   "mimetype": "text/x-python",
   "name": "python",
   "nbconvert_exporter": "python",
   "pygments_lexer": "ipython3",
   "version": "3.10.9"
  },
  "orig_nbformat": 4
 },
 "nbformat": 4,
 "nbformat_minor": 2
}
