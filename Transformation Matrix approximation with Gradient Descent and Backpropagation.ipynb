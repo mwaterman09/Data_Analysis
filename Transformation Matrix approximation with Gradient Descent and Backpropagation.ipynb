{
 "cells": [
  {
   "cell_type": "markdown",
   "id": "41e3bd3c",
   "metadata": {},
   "source": [
    "### Introduction\n",
    "The purpose of this notebook is to implement an algorithm from scratch that uses gradient descent and backpropagation to estimate the matrix of a linear transformation between two vectors. This could easily just be done with the numpy library but sympy adds the visual clarity for the analytic calculations."
   ]
  },
  {
   "cell_type": "code",
   "execution_count": 1,
   "id": "1c84295e",
   "metadata": {},
   "outputs": [],
   "source": [
    "# import libaries\n",
    "import numpy as np\n",
    "import sympy as sp\n",
    "import matplotlib.pyplot as plt"
   ]
  },
  {
   "cell_type": "markdown",
   "id": "7e3ce952",
   "metadata": {},
   "source": [
    "### Problem statement:  \n",
    "\n",
    "\"Given two vectors $\\vec{u} = \\begin{bmatrix}3\\\\2 \\end{bmatrix}$, $\\vec{v} = \\begin{bmatrix}-2\\\\5 \\end{bmatrix}$, what is the transformation matrix $\\pmb W$ such that $\\vec{u} \\pmb W = \\vec{v}$?\"\n",
    "\n",
    "We will start with a 2x2 matrix with randomly initialized values and use neural network methods to estimate the correct matrix."
   ]
  },
  {
   "cell_type": "code",
   "execution_count": 2,
   "id": "1a7693ef",
   "metadata": {},
   "outputs": [
    {
     "data": {
      "text/latex": [
       "$\\displaystyle \\left[\\begin{matrix}5.488 & 7.152\\\\6.028 & 5.449\\end{matrix}\\right]$"
      ],
      "text/plain": [
       "Matrix([\n",
       "[5.488, 7.152],\n",
       "[6.028, 5.449]])"
      ]
     },
     "execution_count": 2,
     "metadata": {},
     "output_type": "execute_result"
    }
   ],
   "source": [
    "# define the random initial matrix W\n",
    "np.random.seed(0) # for reproducibility\n",
    "W = sp.Matrix(10*np.random.random((2,2)).round(4))\n",
    "W"
   ]
  },
  {
   "cell_type": "code",
   "execution_count": 3,
   "id": "df737571",
   "metadata": {},
   "outputs": [],
   "source": [
    "# define the vectors u and v\n",
    "u = sp.Matrix([[3],[2]])\n",
    "v = sp.Matrix([[-2],[5]])"
   ]
  },
  {
   "cell_type": "markdown",
   "id": "712ef05b",
   "metadata": {},
   "source": [
    "Now we can perform the forward pass, which in this case is simply the result of the matrix vector product $\\vec{u} \\pmb{W}$. We will call the result of the forward pass the *activation* vector $\\vec{a}$. Written in index notation this equation is \n",
    "$$ W_{ij}u_{j} = a_i$$ "
   ]
  },
  {
   "cell_type": "code",
   "execution_count": 4,
   "id": "38386c47",
   "metadata": {},
   "outputs": [
    {
     "data": {
      "text/latex": [
       "$\\displaystyle \\left[\\begin{matrix}30.768\\\\28.982\\end{matrix}\\right]$"
      ],
      "text/plain": [
       "Matrix([\n",
       "[30.768],\n",
       "[28.982]])"
      ]
     },
     "execution_count": 4,
     "metadata": {},
     "output_type": "execute_result"
    }
   ],
   "source": [
    "# initial forward pass to calculate a\n",
    "a = W*u\n",
    "a"
   ]
  },
  {
   "cell_type": "markdown",
   "id": "b7d9c3a1",
   "metadata": {},
   "source": [
    "### Cost function\n",
    "We can see that the activation vector $\\vec{a}$ is nowhere near the desired value of $\\vec{v} = \\begin{bmatrix}-2\\\\5 \\end{bmatrix}$. \n",
    "The next step is to determine an appropriate \"cost\" or \"loss\" function to measure the error between $\\vec{a}$ and $\\vec{v}$. The cost function we will use in this case is the mean squared error: $$ C = \\frac{1}{2}\\Sigma(a_i - v_i)^2 $$"
   ]
  },
  {
   "cell_type": "code",
   "execution_count": 5,
   "id": "db9fce62",
   "metadata": {},
   "outputs": [],
   "source": [
    "# define the cost function MSE\n",
    "def cost(a, v):\n",
    "    \n",
    "    C = []\n",
    "    \n",
    "    for x, y in zip(a, v):\n",
    "        C.append(((x - y)**2))\n",
    "    \n",
    "    return 0.5*sum(C)"
   ]
  },
  {
   "cell_type": "code",
   "execution_count": 6,
   "id": "fc2fe91f",
   "metadata": {},
   "outputs": [
    {
     "data": {
      "text/latex": [
       "$\\displaystyle 824.439074$"
      ],
      "text/plain": [
       "824.439074000000"
      ]
     },
     "execution_count": 6,
     "metadata": {},
     "output_type": "execute_result"
    }
   ],
   "source": [
    "# calculate cost function for initial forward pass\n",
    "cost(a, v)"
   ]
  },
  {
   "cell_type": "markdown",
   "id": "cc612653",
   "metadata": {},
   "source": [
    "### Backpropagation"
   ]
  },
  {
   "cell_type": "markdown",
   "id": "031a5141",
   "metadata": {},
   "source": [
    "Now that we have the cost function, we can begin to calculate backpropagation. Backpropagation tells us how to update the matrix $\\pmb W$ in such a way that the cost function decreases. In the case of this simple neural network with a single layer (matrix) and no activation functions, the chain rule allows us to calculate the derivative of the cost function with respect to the weights matrix as follows: \n",
    "$$ \\frac{\\partial C}{\\partial W_{ij}} = \\frac{\\partial C}{\\partial a_i} \\frac{\\partial a_k}{\\partial W_{kj}} $$"
   ]
  },
  {
   "cell_type": "markdown",
   "id": "04c01f03",
   "metadata": {},
   "source": [
    "Upon inspection of the forward pass equation we can see that \n",
    "$$ \\frac{\\partial}{\\partial W_{ij}} a_i = \\frac{\\partial}{\\partial W_{ij}}W_{ij}u_{j} = u_j $$ "
   ]
  },
  {
   "cell_type": "markdown",
   "id": "7ef2050d",
   "metadata": {},
   "source": [
    "And taking the derivative of the cost function with respect to the output activation $a_i$ we get: \n",
    "$$ \\frac{\\partial}{\\partial a_i}\\frac{1}{2}\\Sigma(a_i - v_i)^2 = a_i - v_i $$"
   ]
  },
  {
   "cell_type": "markdown",
   "id": "4b5c0ef2",
   "metadata": {},
   "source": [
    "Which makes the derivative of the cost function with respect to the weights matrix:\n",
    "$$ \\frac{\\partial C}{\\partial W_{ij}} = (a_i - v_i) \\otimes u_j $$ This is the cost gradient we will use to update the weights matrix for each iteration of gradient descent."
   ]
  },
  {
   "cell_type": "code",
   "execution_count": 7,
   "id": "678db032",
   "metadata": {},
   "outputs": [
    {
     "data": {
      "text/latex": [
       "$\\displaystyle \\left[\\begin{matrix}98.304 & 65.536\\\\71.946 & 47.964\\end{matrix}\\right]$"
      ],
      "text/plain": [
       "Matrix([\n",
       "[98.304, 65.536],\n",
       "[71.946, 47.964]])"
      ]
     },
     "execution_count": 7,
     "metadata": {},
     "output_type": "execute_result"
    }
   ],
   "source": [
    "# calculate the cost gradient matrix\n",
    "cost_grad = sp.Matrix(np.outer((a - v), u))\n",
    "cost_grad"
   ]
  },
  {
   "cell_type": "markdown",
   "id": "2f7f98cd",
   "metadata": {},
   "source": [
    "### Gradient descent"
   ]
  },
  {
   "cell_type": "markdown",
   "id": "044e7ee9",
   "metadata": {},
   "source": [
    "In order to update the weights matrix, the gradient descent algorithm is used. We can describe this process by the equation \n",
    "$$ W_{ij}^{n+1} = W_{ij}^{n} - l \\frac{\\partial C}{\\partial W_{ij}}\\bigg|_n $$  \n",
    "where $l$ is the learning rate hyperparameter. For this application we will use a value of $l = 0.01$."
   ]
  },
  {
   "cell_type": "code",
   "execution_count": 8,
   "id": "2981a185",
   "metadata": {},
   "outputs": [],
   "source": [
    "# define learning rate \n",
    "l = 0.01"
   ]
  },
  {
   "cell_type": "markdown",
   "id": "dcdf595b",
   "metadata": {},
   "source": [
    "#### First iteration"
   ]
  },
  {
   "cell_type": "code",
   "execution_count": 9,
   "id": "cbf56c2d",
   "metadata": {},
   "outputs": [
    {
     "data": {
      "text/latex": [
       "$\\displaystyle \\left[\\begin{matrix}4.50496 & 6.49664\\\\5.30854 & 4.96936\\end{matrix}\\right]$"
      ],
      "text/plain": [
       "Matrix([\n",
       "[4.50496, 6.49664],\n",
       "[5.30854, 4.96936]])"
      ]
     },
     "execution_count": 9,
     "metadata": {},
     "output_type": "execute_result"
    }
   ],
   "source": [
    "# compute the first iteration of gradient descent to update weight matrix\n",
    "W = W - l*cost_grad\n",
    "W"
   ]
  },
  {
   "cell_type": "markdown",
   "id": "580e3ff7",
   "metadata": {},
   "source": [
    "Now we have an updated matrix $\\pmb W$, we can compute another forward pass"
   ]
  },
  {
   "cell_type": "code",
   "execution_count": 10,
   "id": "47b5dd1a",
   "metadata": {},
   "outputs": [
    {
     "data": {
      "text/latex": [
       "$\\displaystyle \\left[\\begin{matrix}26.50816\\\\25.86434\\end{matrix}\\right]$"
      ],
      "text/plain": [
       "Matrix([\n",
       "[26.50816],\n",
       "[25.86434]])"
      ]
     },
     "execution_count": 10,
     "metadata": {},
     "output_type": "execute_result"
    }
   ],
   "source": [
    "# compute second forward pass\n",
    "a = W*u\n",
    "a"
   ]
  },
  {
   "cell_type": "markdown",
   "id": "f2c8e729",
   "metadata": {},
   "source": [
    "Now, we compute the cost function with the new activation $\\vec{a}$"
   ]
  },
  {
   "cell_type": "code",
   "execution_count": 11,
   "id": "f16e9a50",
   "metadata": {},
   "outputs": [
    {
     "data": {
      "text/latex": [
       "$\\displaystyle 624.0179351106$"
      ],
      "text/plain": [
       "624.017935110600"
      ]
     },
     "execution_count": 11,
     "metadata": {},
     "output_type": "execute_result"
    }
   ],
   "source": [
    "# evaluate the cost function with new activation\n",
    "cost(a,v)"
   ]
  },
  {
   "cell_type": "markdown",
   "id": "681f1e23",
   "metadata": {},
   "source": [
    "The new cost function is significantly lower than the original value of 824.4. The next step is to evaluate the gradient of the cost function with the new values"
   ]
  },
  {
   "cell_type": "code",
   "execution_count": 12,
   "id": "227e6cb8",
   "metadata": {},
   "outputs": [
    {
     "data": {
      "text/latex": [
       "$\\displaystyle \\left[\\begin{matrix}85.52448 & 57.01632\\\\62.59302 & 41.72868\\end{matrix}\\right]$"
      ],
      "text/plain": [
       "Matrix([\n",
       "[85.52448, 57.01632],\n",
       "[62.59302, 41.72868]])"
      ]
     },
     "execution_count": 12,
     "metadata": {},
     "output_type": "execute_result"
    }
   ],
   "source": [
    "# calculate the cost gradient matrix\n",
    "cost_grad = sp.Matrix(np.outer((a - v), u))\n",
    "cost_grad"
   ]
  },
  {
   "cell_type": "markdown",
   "id": "61ef8cc9",
   "metadata": {},
   "source": [
    "#### Second iteration"
   ]
  },
  {
   "cell_type": "code",
   "execution_count": 13,
   "id": "47803894",
   "metadata": {},
   "outputs": [
    {
     "data": {
      "text/latex": [
       "$\\displaystyle \\left[\\begin{matrix}3.6497152 & 5.9264768\\\\4.6826098 & 4.5520732\\end{matrix}\\right]$"
      ],
      "text/plain": [
       "Matrix([\n",
       "[3.6497152, 5.9264768],\n",
       "[4.6826098, 4.5520732]])"
      ]
     },
     "execution_count": 13,
     "metadata": {},
     "output_type": "execute_result"
    }
   ],
   "source": [
    "# compute the second iteration of gradient descent\n",
    "W = W - l*cost_grad\n",
    "W"
   ]
  },
  {
   "cell_type": "code",
   "execution_count": 14,
   "id": "092a5d5f",
   "metadata": {},
   "outputs": [
    {
     "data": {
      "text/latex": [
       "$\\displaystyle \\left[\\begin{matrix}22.8020992\\\\23.1519758\\end{matrix}\\right]$"
      ],
      "text/plain": [
       "Matrix([\n",
       "[22.8020992],\n",
       "[23.1519758]])"
      ]
     },
     "execution_count": 14,
     "metadata": {},
     "output_type": "execute_result"
    }
   ],
   "source": [
    "# compute a with the new W weights (third forward pass)\n",
    "a = W*u\n",
    "a"
   ]
  },
  {
   "cell_type": "code",
   "execution_count": 15,
   "id": "f34934c2",
   "metadata": {},
   "outputs": [
    {
     "data": {
      "text/latex": [
       "$\\displaystyle 472.319175085213$"
      ],
      "text/plain": [
       "472.319175085213"
      ]
     },
     "execution_count": 15,
     "metadata": {},
     "output_type": "execute_result"
    }
   ],
   "source": [
    "# evaluate the cost function\n",
    "cost(a,v)"
   ]
  },
  {
   "cell_type": "code",
   "execution_count": 16,
   "id": "950fbc91",
   "metadata": {},
   "outputs": [
    {
     "data": {
      "text/latex": [
       "$\\displaystyle \\left[\\begin{matrix}74.4062976 & 49.6041984\\\\54.4559274 & 36.3039516\\end{matrix}\\right]$"
      ],
      "text/plain": [
       "Matrix([\n",
       "[74.4062976, 49.6041984],\n",
       "[54.4559274, 36.3039516]])"
      ]
     },
     "execution_count": 16,
     "metadata": {},
     "output_type": "execute_result"
    }
   ],
   "source": [
    "# calculate the cost gradient matrix\n",
    "cost_grad = sp.Matrix(np.outer((a - v), u))\n",
    "cost_grad"
   ]
  },
  {
   "cell_type": "markdown",
   "id": "336ff58a",
   "metadata": {},
   "source": [
    "#### Third iteration"
   ]
  },
  {
   "cell_type": "code",
   "execution_count": 17,
   "id": "e062dc75",
   "metadata": {},
   "outputs": [
    {
     "data": {
      "text/latex": [
       "$\\displaystyle \\left[\\begin{matrix}2.905652224 & 5.430434816\\\\4.138050526 & 4.189033684\\end{matrix}\\right]$"
      ],
      "text/plain": [
       "Matrix([\n",
       "[2.905652224, 5.430434816],\n",
       "[4.138050526, 4.189033684]])"
      ]
     },
     "execution_count": 17,
     "metadata": {},
     "output_type": "execute_result"
    }
   ],
   "source": [
    "# compute the third iteration of gradient descent\n",
    "W = W - l*cost_grad\n",
    "W"
   ]
  },
  {
   "cell_type": "markdown",
   "id": "5e706071",
   "metadata": {},
   "source": [
    "### Putting it all together\n",
    "Now that we have calculated the first few iterations, we can see how the algorithm works and that the cost function is decreasing as expected. In the next step, we'll put it all together into a function we can loop through and let $\\pmb W$ converge to the correct transformation matrix."
   ]
  },
  {
   "cell_type": "code",
   "execution_count": 18,
   "id": "f952fde3",
   "metadata": {},
   "outputs": [
    {
     "data": {
      "image/png": "[encoded data removed]",
      "text/plain": [
       "<Figure size 640x480 with 1 Axes>"
      ]
     },
     "metadata": {},
     "output_type": "display_data"
    }
   ],
   "source": [
    "# define number of training iterations\n",
    "epochs = 100\n",
    "\n",
    "# make a list to store the loss for each iteration\n",
    "total_loss = []\n",
    "\n",
    "# loop through gradient descent and backpropagation\n",
    "for epoch in range(epochs):\n",
    "    \n",
    "    # initial forward pass to calculate a\n",
    "    a = W*u\n",
    "\n",
    "    # update current loss\n",
    "    total_loss.append(cost(a,v))\n",
    "    \n",
    "    # calculate the cost gradient matrix\n",
    "    cost_grad = sp.Matrix(np.outer((a - v), u))\n",
    "\n",
    "    # update the weights\n",
    "    W = W - l*cost_grad\n",
    "    \n",
    "plt.plot(range(epochs), total_loss);\n",
    "plt.title('Loss function')\n",
    "plt.xlabel('Training iterations')\n",
    "plt.ylabel('Cost')\n",
    "plt.grid()\n",
    "plt.show()"
   ]
  },
  {
   "cell_type": "code",
   "execution_count": 19,
   "id": "63800b53",
   "metadata": {},
   "outputs": [
    {
     "data": {
      "text/latex": [
       "$\\displaystyle \\left[\\begin{matrix}-1.99997779689555\\\\5.00001624984287\\end{matrix}\\right]$"
      ],
      "text/plain": [
       "Matrix([\n",
       "[-1.99997779689555],\n",
       "[ 5.00001624984287]])"
      ]
     },
     "execution_count": 19,
     "metadata": {},
     "output_type": "execute_result"
    }
   ],
   "source": [
    "# display activation vector\n",
    "a"
   ]
  },
  {
   "cell_type": "markdown",
   "id": "2a264860",
   "metadata": {},
   "source": [
    "We can see after just 100 iterations, the activation vector $\\vec{a}$ is very close to the desired outcome $\\vec{v}$."
   ]
  },
  {
   "cell_type": "markdown",
   "id": "f4bd7364",
   "metadata": {},
   "source": [
    "The transformation matrix is therefore approximately:"
   ]
  },
  {
   "cell_type": "code",
   "execution_count": 20,
   "id": "6b090c1f",
   "metadata": {},
   "outputs": [
    {
     "data": {
      "text/latex": [
       "$\\displaystyle \\left[\\begin{matrix}-2.07384169614595 & 2.11077220256937\\\\0.493695570160759 & 1.75946371344051\\end{matrix}\\right]$"
      ],
      "text/plain": [
       "Matrix([\n",
       "[-2.07384169614595, 2.11077220256937],\n",
       "[0.493695570160759, 1.75946371344051]])"
      ]
     },
     "execution_count": 20,
     "metadata": {},
     "output_type": "execute_result"
    }
   ],
   "source": [
    "# transformation matrix\n",
    "W"
   ]
  }
 ],
 "metadata": {
  "kernelspec": {
   "display_name": "Python 3 (ipykernel)",
   "language": "python",
   "name": "python3"
  },
  "language_info": {
   "codemirror_mode": {
    "name": "ipython",
    "version": 3
   },
   "file_extension": ".py",
   "mimetype": "text/x-python",
   "name": "python",
   "nbconvert_exporter": "python",
   "pygments_lexer": "ipython3",
   "version": "3.10.9"
  }
 },
 "nbformat": 4,
 "nbformat_minor": 5
}
